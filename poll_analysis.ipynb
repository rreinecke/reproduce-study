{
 "cells": [
  {
   "cell_type": "markdown",
   "metadata": {
    "collapsed": true,
    "pycharm": {
     "name": "#%%\n"
    }
   },
   "source": [
    "# REMODEL\n",
    "## A Community Poll on Reproducibility in Computational Geosciences\n",
    "\n",
    "This Notebook proposes a full analysis for detailed results.\n",
    "\n",
    "One suggestion would be to 1) produce full results and 2) to later decide which part of the results would be best to include in our journal paper (depending on storyline, etc)."
   ]
  },
  {
   "cell_type": "markdown",
   "metadata": {},
   "source": [
    "## I) AIM OF THIS SURVEY\n",
    "\n",
    "Software development has become an integral part of the geosciences as models and data processing get more sophisticated. In recent years, progress towards open science has led to more publishers demanding access to data and source code alongside peer-reviewed manuscripts. Still, recent studies find that results can rarely be reproduced. We want to find out what the community perspective is on these issues and how we can move forward.\n",
    "\n",
    "\n",
    "ADD OUR ANALYSIS OF THE PROBLEM HERE\n",
    "\n",
    "ADD OUR HYPOTHESES/LARGER QUESTIONS HERE \n",
    "\n",
    "ADD OUR DEF OF REPRODUCIBILITY HERE\n"
   ]
  },
  {
   "cell_type": "markdown",
   "metadata": {},
   "source": [
    "## II) DATA PROCESSING AND ANALYSIS\n",
    "We designed the survey according to standards from psychology research. We apply descriptive statistics to analyse demographic background and basic analysis. Further, we apply inferential statistical methods to test the unerlying hypotheses.\n"
   ]
  },
  {
   "cell_type": "code",
   "execution_count": 31,
   "metadata": {},
   "outputs": [],
   "source": [
    "# here we add code to could run Robert's processing scripts (run.py) \n",
    "# or enter code for data pre-processing "
   ]
  },
  {
   "cell_type": "markdown",
   "metadata": {},
   "source": [
    "## III) RESULTS\n"
   ]
  },
  {
   "cell_type": "markdown",
   "metadata": {},
   "source": [
    "### III) Sample Characteristics (demographics)\n",
    "Who were our participants? Here we present characteristics of the participants in our poll, i.e. their current career stage, their years of research experience, their geo-scientific field and scale as well as their current focus of work.\n",
    "This is purely descriptive statistics. As we welcomed everyone to our poll, we did not form any assumptions regarding sample characteristics. Also, we tried, but might not have reached a representative sample of the population of geo-scientists. \n",
    "\n",
    "Here, we report basic sample characteristics. Also, we can check for and report any salient sample properties.\n",
    "\n",
    "- Corresponding survey questions:\n",
    "    - DM01 \n",
    "    - DM02 \n",
    "    - DM06\n",
    "    - DM05\n",
    "    - DM07"
   ]
  },
  {
   "cell_type": "markdown",
   "metadata": {},
   "source": [
    "**Career Stage:** DM01: What career stage are you in?"
   ]
  },
  {
   "cell_type": "code",
   "execution_count": 32,
   "metadata": {},
   "outputs": [
    {
     "data": {
      "text/plain": [
       "<AxesSubplot:xlabel='Career Stage', ylabel='Frequency'>"
      ]
     },
     "execution_count": 32,
     "metadata": {},
     "output_type": "execute_result"
    },
    {
     "data": {
      "image/png": "[encoded data removed]",
      "text/plain": [
       "<Figure size 432x288 with 1 Axes>"
      ]
     },
     "metadata": {
      "needs_background": "light"
     },
     "output_type": "display_data"
    }
   ],
   "source": [
    "# show career stage plot, add caption\n",
    "# example\n",
    "career = data['DM01'].plot.hist(bins=12, alpha=0.5, xlabel='Career Stage')\n",
    "career.set_xlabel('Career Stage')\n",
    "career"
   ]
  },
  {
   "cell_type": "markdown",
   "metadata": {},
   "source": [
    "**Experience:** DM02: For how long have you been working in this field?"
   ]
  },
  {
   "cell_type": "code",
   "execution_count": 33,
   "metadata": {},
   "outputs": [],
   "source": [
    "# show years of experience plot"
   ]
  },
  {
   "cell_type": "code",
   "execution_count": 34,
   "metadata": {},
   "outputs": [],
   "source": [
    "# etc ..."
   ]
  },
  {
   "cell_type": "markdown",
   "metadata": {},
   "source": [
    "### III Cluster A) Community Opinion on Reproducibility\n",
    "This part covers people's view and opinion.\n",
    "\n",
    "- Start here with summary of our hypotheses\n",
    "We assume that... (formulate in a neutral tone)\n",
    "\n",
    "- Analysis Steps:\n",
    "    - plot corresponding questions (across full sample)\n",
    "    - perform statistical testing of our above stated hypotheses (across subgroups, e.g. early career vs senior researcher)\n",
    "    - perform further data exploration (NOT hypothesis testing) - this might inspire future research, e.g. correlation analysis\n",
    "\n",
    "- corresponding hypotheses (see Robert's evaluation plan):\n",
    "    - H1\n",
    "    - H8\n",
    "    - H10\n",
    "    - H11\n",
    "\n",
    "- Corresponding survey questions:\n",
    "    - O101\n",
    "    - O103\n",
    "    - S113\n"
   ]
  },
  {
   "cell_type": "markdown",
   "metadata": {},
   "source": [
    "**O101: Opinion on Reproducibility in Geo-Sciences**: How strongly did participants generally agree with statements?\n",
    "\n",
    "Do they consider it a problem at all? Do they think that their work is reproducible?"
   ]
  },
  {
   "cell_type": "code",
   "execution_count": 35,
   "metadata": {},
   "outputs": [],
   "source": [
    "# show O101 plot (full sample)"
   ]
  },
  {
   "cell_type": "markdown",
   "metadata": {},
   "source": [
    "**O101 (hypotheses): Differences in Opinion on Reproducibility in Geo-Sciences**: Do early career researcher differ from senior researchers in their agreement?"
   ]
  },
  {
   "cell_type": "code",
   "execution_count": 36,
   "metadata": {},
   "outputs": [],
   "source": [
    "# perform statistical test (chosen by scale and sample distribution)\n",
    "# show test results"
   ]
  },
  {
   "cell_type": "code",
   "execution_count": 37,
   "metadata": {},
   "outputs": [],
   "source": [
    "# show subgorup plot (according to hypotheses, e.g. early careers have )"
   ]
  },
  {
   "cell_type": "markdown",
   "metadata": {},
   "source": [
    "**O103: Reasons for lack of reproducibility**: Rating of agreement to reasons\n"
   ]
  },
  {
   "cell_type": "code",
   "execution_count": 38,
   "metadata": {},
   "outputs": [],
   "source": [
    "# show O103 plot\n",
    "# perform hypothesis test\n",
    "# explore data even further\n",
    "# etc..."
   ]
  },
  {
   "cell_type": "markdown",
   "metadata": {},
   "source": [
    "**S113: Time for new students to get familiar with software**\n"
   ]
  },
  {
   "cell_type": "code",
   "execution_count": 39,
   "metadata": {},
   "outputs": [],
   "source": [
    "# show S113 plot"
   ]
  },
  {
   "cell_type": "markdown",
   "metadata": {},
   "source": [
    "### III Cluster B) Reproducibility Practices and Skills\n",
    "This part covers \"actual\" behaviour. (still only self-report assessment, but we can't change that)\n",
    "\n",
    "- Start here with summary of our hypotheses\n",
    "\n",
    "We expected to see that... (formulate in a neutral tone)\n",
    "\n",
    "- Analysis Steps:\n",
    "    - plot corresponding questions (across full sample)\n",
    "    - perform statistical testing of our above stated hypotheses (across subgroups, e.g. early career vs senior researcher)\n",
    "    - perform further data exploration (NOT hypothesis testing) - this might inspire future research, e.g. correlation analysis\n",
    "\n",
    "- corresponding hypotheses (see Robert's evaluation plan):\n",
    "    - H6\n",
    "    - H9\n",
    "    - H12\n",
    "    - H5\n",
    "    - H2\n",
    "    \n",
    "- Corresponding survey questions:\n",
    "    - O102\n",
    "    - S103\n",
    "    - S110\n",
    "    - S202\n",
    "    - S112\n",
    "    - S101\n",
    "    - S111\n",
    "    - S104\n",
    "    - S105\n",
    "    - S106"
   ]
  },
  {
   "cell_type": "code",
   "execution_count": null,
   "metadata": {},
   "outputs": [],
   "source": [
    "# ... add code"
   ]
  },
  {
   "cell_type": "markdown",
   "metadata": {},
   "source": [
    "### III Cluster C) Hurdles against and Solutions towards Reproducibility\n",
    "This part covers \"actual\" behaviour. (still only self-report assessment, but we can't change that)\n",
    "\n",
    "- Start here with summary of our hypotheses\n",
    "\n",
    "We stated that... (formulate in a neutral tone)\n",
    "\n",
    "- Analysis Steps:\n",
    "    - plot corresponding questions (across full sample)\n",
    "    - perform statistical testing of our above stated hypotheses (across subgroups, e.g. early career vs senior researcher)\n",
    "    - perform further data exploration (NOT hypothesis testing) - this might inspire future research, e.g. correlation analysis\n",
    "\n",
    "- corresponding hypotheses (see Robert's evaluation plan):\n",
    "    - H7\n",
    "    - H13\n",
    "    - H3\n",
    "    \n",
    "- Corresponding survey questions:\n",
    "    - S203\n",
    "    - S201\n",
    "    - S204 (open text)"
   ]
  },
  {
   "cell_type": "code",
   "execution_count": 40,
   "metadata": {},
   "outputs": [],
   "source": [
    "# ... add code"
   ]
  },
  {
   "cell_type": "code",
   "execution_count": null,
   "metadata": {},
   "outputs": [],
   "source": []
  }
 ],
 "metadata": {
  "kernelspec": {
   "display_name": "Python 3",
   "language": "python",
   "name": "python3"
  },
  "language_info": {
   "codemirror_mode": {
    "name": "ipython",
    "version": 3
   },
   "file_extension": ".py",
   "mimetype": "text/x-python",
   "name": "python",
   "nbconvert_exporter": "python",
   "pygments_lexer": "ipython3",
   "version": "3.8.5"
  }
 },
 "nbformat": 4,
 "nbformat_minor": 1
}
